{
 "cells": [
  {
   "cell_type": "code",
   "execution_count": 1,
   "metadata": {},
   "outputs": [
    {
     "name": "stdout",
     "output_type": "stream",
     "text": [
      "Welcome\n",
      "Do you want to play this game??\n",
      "Enter yes or no\n",
      "\n",
      "yes\n",
      "Enter a 4 letter wordship\n",
      "Enter a 4 letter wordfrog\n",
      "1B\n",
      "1C\n",
      "Enter a 4 letter wordlife\n",
      "1C\n",
      "Enter a 4 letter wordfoam\n",
      "1B\n",
      "1C\n",
      "1B\n",
      "Enter a 4 letter wordfarm\n",
      "You were right, the word was farm\n",
      "\n",
      "CONGRATULATIONS\n",
      "\n",
      "You win\n"
     ]
    },
    {
     "ename": "SystemExit",
     "evalue": "0",
     "output_type": "error",
     "traceback": [
      "An exception has occurred, use %tb to see the full traceback.\n",
      "\u001b[0;31mSystemExit\u001b[0m\u001b[0;31m:\u001b[0m 0\n"
     ]
    },
    {
     "name": "stderr",
     "output_type": "stream",
     "text": [
      "/Users/mvs/anaconda3/lib/python3.7/site-packages/IPython/core/interactiveshell.py:3334: UserWarning: To exit: use 'exit', 'quit', or Ctrl-D.\n",
      "  warn(\"To exit: use 'exit', 'quit', or Ctrl-D.\", stacklevel=1)\n"
     ]
    }
   ],
   "source": [
    "import nltk\n",
    "from nltk.corpus import words\n",
    "import random\n",
    "from sys import exit\n",
    "\n",
    "\n",
    "def game_start():\n",
    "    print(\"Welcome\")\n",
    "    proceed_1 = input(\"Do you want to play this game??\\nEnter yes or no\\n\\n\")\n",
    "    if proceed_1.casefold() == 'yes'.casefold():\n",
    "        round_1()\n",
    "    else:\n",
    "        fail()\n",
    "        \n",
    "def fail():\n",
    "    print(f\"the word was {random_word}\")\n",
    "    proceed_2=input(\"Do you want to continue\\nEnter yes or no\")\n",
    "    if proceed_2.casefold()==\"yes\".casefold():\n",
    "        round_1()\n",
    "    else:\n",
    "        exit(0)\n",
    "        \n",
    "def success():\n",
    "    print(f\"You were right, the word was {random_word}\\n\\nCONGRATULATIONS\\n\\nYou win\")\n",
    "    exit(0)\n",
    "\n",
    "    \n",
    "    \n",
    "def round_1():\n",
    "    global random_word\n",
    "    \n",
    "    word_list = words.words()\n",
    "    new_word_list=[]\n",
    "\n",
    "    for item in word_list:\n",
    "        if len(item)== 4:\n",
    "            new_word_list.append(item)\n",
    "        else:\n",
    "            continue\n",
    "        \n",
    "    random_word=random.choice(new_word_list)\n",
    "\n",
    "    random_word_list=list(random_word)\n",
    "    \n",
    "    guess=10\n",
    "    while guess > 0:\n",
    "        guess_word=input(\"Enter a 4 letter word\\n\\n\")\n",
    "        guess_word_list=list(guess_word)\n",
    "        guess-=1\n",
    "        if guess_word_list == random_word_list:\n",
    "            success()\n",
    "        else:\n",
    "            for i in range(4):\n",
    "                if guess_word_list[i] == random_word_list[i]:\n",
    "                    print (\"1B\")\n",
    "                elif guess_word_list[i] in random_word_list[:]:\n",
    "                    print(\"1C\")\n",
    "                else:    \n",
    "                    continue\n",
    "    fail()\n",
    "                \n",
    "                \n",
    "\n",
    "                \n",
    "                \n",
    "game_start()"
   ]
  },
  {
   "cell_type": "markdown",
   "metadata": {},
   "source": [
    "# "
   ]
  },
  {
   "cell_type": "code",
   "execution_count": null,
   "metadata": {},
   "outputs": [],
   "source": []
  }
 ],
 "metadata": {
  "kernelspec": {
   "display_name": "Python 3",
   "language": "python",
   "name": "python3"
  },
  "toc": {
   "base_numbering": 1,
   "nav_menu": {},
   "number_sections": true,
   "sideBar": true,
   "skip_h1_title": false,
   "title_cell": "Table of Contents",
   "title_sidebar": "Contents",
   "toc_cell": false,
   "toc_position": {},
   "toc_section_display": true,
   "toc_window_display": false
  },
  "varInspector": {
   "cols": {
    "lenName": 16,
    "lenType": 16,
    "lenVar": 40
   },
   "kernels_config": {
    "python": {
     "delete_cmd_postfix": "",
     "delete_cmd_prefix": "del ",
     "library": "var_list.py",
     "varRefreshCmd": "print(var_dic_list())"
    },
    "r": {
     "delete_cmd_postfix": ") ",
     "delete_cmd_prefix": "rm(",
     "library": "var_list.r",
     "varRefreshCmd": "cat(var_dic_list()) "
    }
   },
   "types_to_exclude": [
    "module",
    "function",
    "builtin_function_or_method",
    "instance",
    "_Feature"
   ],
   "window_display": false
  }
 },
 "nbformat": 4,
 "nbformat_minor": 2
}
